{
 "cells": [
  {
   "cell_type": "code",
   "execution_count": 1,
   "id": "3d67f232",
   "metadata": {},
   "outputs": [
    {
     "data": {
      "text/plain": [
       "'%\\nX = np.array(XX)\\ny = np.array(yy)\\n%'"
      ]
     },
     "execution_count": 1,
     "metadata": {},
     "output_type": "execute_result"
    }
   ],
   "source": [
    "####$ Data Definition $####\n",
    "\n",
    "import numpy as np \n",
    "\n",
    "\n",
    "\n",
    "# training dataset \n",
    "X = np.array([[1, 1, 1], \n",
    " [3, 40, 1], \n",
    " [4, 20, 10], \n",
    " [5., 3, 1], \n",
    " [5, 3, 2], \n",
    " [6, 40, 1], \n",
    " [8, 9, 2], \n",
    " [9, 3, 4], \n",
    " [11, 100, 12] \n",
    "])\n",
    "\n",
    "\n",
    "y = np.array([10,22,28,39,50,65, 65,80,95])\n",
    "\n",
    "\n",
    "\"\"\"%\n",
    "X = np.array(XX)\n",
    "y = np.array(yy)\n",
    "%\"\"\"\n",
    "\n"
   ]
  },
  {
   "cell_type": "code",
   "execution_count": 2,
   "id": "8184dd2c",
   "metadata": {},
   "outputs": [],
   "source": [
    "####$ Model Definition $####\n",
    "\n",
    "from keras.models import Sequential \n",
    "from keras.layers import Dense \n",
    "from keras.callbacks import EarlyStopping,  ModelCheckpoint \n",
    "#----from delphi_training_callback import DelphiTrainingCallback----\n",
    "\n",
    "model = Sequential() \n",
    "#model.add(Input(shape=(X.shape[1],))) \n",
    "model.add(Dense(64, input_shape=(X.shape[1],)))\n",
    "model.add(Dense(units=32)) \n",
    "model.add(Dense(units=16)) \n",
    "model.add(Dense(units=1, activation='ReLU')) \n",
    "model.compile(loss='mse', optimizer=\"adam\") # , metrics =['mae', 'mape'] \n",
    "\n"
   ]
  },
  {
   "cell_type": "code",
   "execution_count": null,
   "id": "077b80c3",
   "metadata": {},
   "outputs": [],
   "source": []
  },
  {
   "cell_type": "code",
   "execution_count": 3,
   "id": "0c41882d",
   "metadata": {},
   "outputs": [
    {
     "name": "stdout",
     "output_type": "stream",
     "text": [
      "Epoch 1/100\n",
      "1/1 [==============================] - 1s 638ms/step - loss: 1977.0000 - val_loss: 7712.5000\n",
      "Epoch 2/100\n",
      "1/1 [==============================] - 0s 23ms/step - loss: 1977.0000 - val_loss: 7712.5000\n",
      "Epoch 3/100\n",
      "1/1 [==============================] - 0s 20ms/step - loss: 1977.0000 - val_loss: 7712.5000\n",
      "Epoch 4/100\n",
      "1/1 [==============================] - 0s 32ms/step - loss: 1977.0000 - val_loss: 7712.5000\n",
      "Epoch 5/100\n",
      "1/1 [==============================] - 0s 27ms/step - loss: 1977.0000 - val_loss: 7712.5000\n",
      "Epoch 6/100\n",
      "1/1 [==============================] - 0s 23ms/step - loss: 1977.0000 - val_loss: 7712.5000\n",
      "Epoch 7/100\n",
      "1/1 [==============================] - 0s 25ms/step - loss: 1977.0000 - val_loss: 7712.5000\n",
      "Epoch 8/100\n",
      "1/1 [==============================] - 0s 26ms/step - loss: 1977.0000 - val_loss: 7712.5000\n",
      "Epoch 9/100\n",
      "1/1 [==============================] - 0s 26ms/step - loss: 1977.0000 - val_loss: 7712.5000\n",
      "Epoch 10/100\n",
      "1/1 [==============================] - 0s 29ms/step - loss: 1977.0000 - val_loss: 7712.5000\n",
      "Epoch 11/100\n",
      "1/1 [==============================] - 0s 20ms/step - loss: 1977.0000 - val_loss: 7712.5000\n",
      "Epoch 12/100\n",
      "1/1 [==============================] - 0s 19ms/step - loss: 1977.0000 - val_loss: 7712.5000\n",
      "Epoch 13/100\n",
      "1/1 [==============================] - 0s 24ms/step - loss: 1977.0000 - val_loss: 7712.5000\n",
      "Epoch 14/100\n",
      "1/1 [==============================] - 0s 26ms/step - loss: 1977.0000 - val_loss: 7712.5000\n",
      "Epoch 15/100\n",
      "1/1 [==============================] - 0s 23ms/step - loss: 1977.0000 - val_loss: 7712.5000\n",
      "Epoch 16/100\n",
      "1/1 [==============================] - 0s 21ms/step - loss: 1977.0000 - val_loss: 7712.5000\n",
      "Epoch 17/100\n",
      "1/1 [==============================] - 0s 20ms/step - loss: 1977.0000 - val_loss: 7712.5000\n",
      "Epoch 18/100\n",
      "1/1 [==============================] - 0s 20ms/step - loss: 1977.0000 - val_loss: 7712.5000\n",
      "Epoch 19/100\n",
      "1/1 [==============================] - 0s 26ms/step - loss: 1977.0000 - val_loss: 7712.5000\n",
      "Epoch 20/100\n",
      "1/1 [==============================] - 0s 25ms/step - loss: 1977.0000 - val_loss: 7712.5000\n",
      "Epoch 21/100\n",
      "1/1 [==============================] - 0s 23ms/step - loss: 1977.0000 - val_loss: 7712.5000\n",
      "[7712.5, 7712.5, 7712.5, 7712.5, 7712.5, 7712.5, 7712.5, 7712.5, 7712.5, 7712.5, 7712.5, 7712.5, 7712.5, 7712.5, 7712.5, 7712.5, 7712.5, 7712.5, 7712.5, 7712.5, 7712.5]\n"
     ]
    }
   ],
   "source": [
    "####$ Model Training $####\n",
    "\n",
    "callbacks = [] \n",
    "\n",
    "\"\"\"%\n",
    "callbacks.append(DelphiTrainingCallback())\n",
    "%\"\"\"\n",
    "\n",
    "callbacks.append(EarlyStopping(monitor='val_loss',  patience=20, restore_best_weights=True)) \n",
    "callbacks.append(ModelCheckpoint('my model weighs.hdf5', monitor='val_loss', save_best_only=True)) \n",
    "\n",
    "# Fit the neural model \n",
    "history=model.fit(X, y, validation_split=0.2, epochs= 100, callbacks=callbacks) \n",
    "print(history.history[\"val_loss\"]) "
   ]
  },
  {
   "cell_type": "code",
   "execution_count": 4,
   "id": "1c81960b",
   "metadata": {},
   "outputs": [
    {
     "name": "stdout",
     "output_type": "stream",
     "text": [
      "[1 2 3] [0.]\n",
      "[ -1  -2 -10] [0.3426063]\n",
      "[10 10 10] [0.]\n",
      "[100   4  50] [0.]\n"
     ]
    }
   ],
   "source": [
    "####$ Model Testing $####\n",
    "X_test = [[1, 2, 3], \n",
    " [-1, -2, -10], \n",
    " [10, 10, 10], \n",
    " [100, 4, 50] \n",
    "] \n",
    "\n",
    "\"\"\"{\n",
    "'''$\n",
    "}\"\"\"\n",
    "yy_test = [0, 0, 0, 0]\n",
    "X_test = np.array(X_test)\n",
    "Y_test = np.array(yy_test)\n",
    "\"\"\"{\n",
    "$'''\n",
    "}\"\"\"\n",
    "\n",
    "\"\"\"%\n",
    "X_test = np.array(XX_test)\n",
    "Y_test = np.array(yy_test)\n",
    "%\"\"\"\n",
    "\n",
    "\n",
    "predictions = model.predict(X_test) \n",
    "for x, y in zip(X_test, predictions): \n",
    "    print(x, y)\n",
    "    \n",
    "    \n",
    "yy_pred = predictions.tolist()\n",
    "errors = (predictions - Y_test).tolist()"
   ]
  },
  {
   "cell_type": "code",
   "execution_count": 5,
   "id": "93c921f9",
   "metadata": {},
   "outputs": [
    {
     "data": {
      "image/png": "[encoded data removed]",
      "text/plain": [
       "<Figure size 432x288 with 1 Axes>"
      ]
     },
     "metadata": {
      "needs_background": "light"
     },
     "output_type": "display_data"
    }
   ],
   "source": [
    "####$ Resulting Plots $####\n",
    "\n",
    "import matplotlib.pyplot as plt\n",
    "fig = plt.figure()\n",
    "ax = plt.axes()\n",
    "\n",
    "x = range(len(yy_test))\n",
    "y = yy_pred\n",
    "plt.plot(x, y)\n",
    "\n",
    "x = range(len(yy_test))\n",
    "y = yy_test\n",
    "plt.plot(x, y)\n",
    "\n",
    "plt.show()"
   ]
  },
  {
   "cell_type": "code",
   "execution_count": null,
   "id": "dab73902",
   "metadata": {},
   "outputs": [],
   "source": []
  }
 ],
 "metadata": {
  "kernelspec": {
   "display_name": "Python 3 (ipykernel)",
   "language": "python",
   "name": "python3"
  },
  "language_info": {
   "codemirror_mode": {
    "name": "ipython",
    "version": 3
   },
   "file_extension": ".py",
   "mimetype": "text/x-python",
   "name": "python",
   "nbconvert_exporter": "python",
   "pygments_lexer": "ipython3",
   "version": "3.8.12"
  }
 },
 "nbformat": 4,
 "nbformat_minor": 5
}
